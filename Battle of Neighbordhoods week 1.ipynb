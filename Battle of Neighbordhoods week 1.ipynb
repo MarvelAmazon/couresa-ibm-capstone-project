{
 "cells": [
  {
   "cell_type": "markdown",
   "metadata": {},
   "source": [
    "# Battle of Neighbourhoods - Week 1"
   ]
  },
  {
   "cell_type": "markdown",
   "metadata": {},
   "source": [
    "\n",
    "This notebook is divided into two parts:\n",
    "    \n",
    "   **1 Introduction/Business Problem**\n",
    "   \n",
    "       1.a Discussion of the business problem and what is the audience who would be interested in this project.\n",
    "   \n",
    "   **2 Data Section**\n",
    "       \n",
    "       2.a What data is used?\n",
    "       2.b What Librairies needed to accomplish this tasks\n",
    "       "
   ]
  },
  {
   "cell_type": "markdown",
   "metadata": {},
   "source": [
    "## 1. Introduction/Business Problem"
   ]
  },
  {
   "cell_type": "markdown",
   "metadata": {},
   "source": [
    "### Discussion of the business problem and the audience who would be interested in this project."
   ]
  },
  {
   "cell_type": "markdown",
   "metadata": {},
   "source": [
    "#### Something about Toronto"
   ]
  },
  {
   "cell_type": "markdown",
   "metadata": {},
   "source": [
    "Toronto, capital of the province of Ontario, is one of the major Canadian cities, located on the northwest shore of Lake Ontario. This dynamic metropolis includes a number of dizzying skyscrapers, dominated by the iconic CN tower. Toronto is also home to many green spaces, from Queen's Park Oval Park to High Park, which covers an area of ​​1.6 km2 and offers trails, sports facilities and a zoo.\n"
   ]
  },
  {
   "cell_type": "markdown",
   "metadata": {},
   "source": [
    "#### Expected / Interested Audience"
   ]
  },
  {
   "cell_type": "markdown",
   "metadata": {},
   "source": [
    "\n",
    "This project is dedicated to all those who want to come and live in Toronto and who want to know:\n",
    "1. What are the neighborhoods with the cheapest houses for sale.\n",
    "2. Which neighborhoods have the least crime to live with their family.\n",
    "3.  What are the most interesting places to visit in a neighborhood and find some clustered venues."
   ]
  },
  {
   "cell_type": "markdown",
   "metadata": {},
   "source": [
    "##  2.Data section"
   ]
  },
  {
   "cell_type": "markdown",
   "metadata": {},
   "source": [
    "### 2.a What data is used?"
   ]
  },
  {
   "cell_type": "markdown",
   "metadata": {},
   "source": [
    "1. Scrape the site <a href=\"https://www.point2homes.com/CA/Real-Estate-Listings/ON/Toronto.html?location=Toronto%2C+ON&search_mode=location&page=3&SelectedView=listings&LocationGeoId=783094&location_changed=&ajax=1\">point2homes.com on Toronto</a> to predict house sales on Toronto Neighbourhoods\n",
    "2. Use <a href='http://data.torontopolice.on.ca/datasets/mci-2014-to-2018'> The MCI  dataset includes all Major Crime Indicators (MCI) 2014 to 2018 occurrences by reported date and related offences </a>  to predict crime on Toronto Neighbourhoods.\n",
    "3. We will be completely working on <a href='https://developer.foursquare.com/'>Foursquare data</a> to explore and try to locate our new house where more venues like church, restaurant, bar, hotel museums, memorials etc.. that are present nearby."
   ]
  },
  {
   "cell_type": "markdown",
   "metadata": {},
   "source": [
    "### 2.b Importing Libraries"
   ]
  },
  {
   "cell_type": "code",
   "execution_count": 2,
   "metadata": {},
   "outputs": [],
   "source": [
    "import warnings\n",
    "warnings.filterwarnings('ignore') \n",
    "import requests # HTTP library\n",
    "import pandas as pd # for data analysis\n",
    "import numpy as np  # data in a vectorized manner manipulation\n",
    "# Matplotlib and associated plotting modules for visualization\n",
    "import matplotlib.cm as cm\n",
    "import matplotlib.colors as colors\n",
    "import matplotlib.pyplot as plt\n",
    "\n",
    "import statsmodels.api as sm # implement statistic models\n",
    "import time # use time\n",
    "from geopy.geocoders import Nominatim  # for geocoders referencing\n",
    "import geopandas as gpd # for spatial dataset\n",
    "import seaborn as sns # for plotting and visulalization\n",
    "from scipy import stats # statistic computation\n",
    "from bs4 import BeautifulSoup # scrapping web site\n",
    "pd.set_option('display.max_columns', None)\n",
    "pd.set_option('display.max_rows', None)\n",
    "import re # regualr expression"
   ]
  },
  {
   "cell_type": "markdown",
   "metadata": {},
   "source": [
    "#### scrape the site point2homes.com on Toronto to predict house sales on Toronto Neighbourhoods"
   ]
  },
  {
   "cell_type": "code",
   "execution_count": 4,
   "metadata": {},
   "outputs": [],
   "source": [
    "import requests\n",
    "user_agent = 'Mozilla/5.0 (Windows NT 10.0; Win64; x64) AppleWebKit/537.36 (KHTML, like Gecko) Chrome/80.0.3987.87 Safari/537.36 Edg/80.0.100.0'\n",
    "headers={'User-Agent':user_agent} "
   ]
  },
  {
   "cell_type": "code",
   "execution_count": null,
   "metadata": {},
   "outputs": [],
   "source": [
    "# https://www.point2homes.com/CA/Real-Estate-Listings/ON/Toronto.html?location=Toronto%2C+ON&search_mode=location&page=3&SelectedView=listings&LocationGeoId=783094&location_changed=&ajax=1\n",
    "# http://data.torontopolice.on.ca/datasets/mci-2014-to-2018"
   ]
  },
  {
   "cell_type": "code",
   "execution_count": null,
   "metadata": {},
   "outputs": [],
   "source": [
    "long_list = []\n",
    "lat_list = []\n",
    "address_list = []\n",
    "price_list= []\n",
    "data_url_list = []\n",
    "bed_list = []\n",
    "bath_list = []\n",
    "bath_list = []\n",
    "sqft_list = []\n",
    "type_list = []\n",
    "# iterates in 148 pages\n",
    "for index in range(1,148):\n",
    "    url = 'https://www.point2homes.com/CA/Real-Estate-Listings/ON/Toronto.html?location=Toronto%2C+ON&search_mode=location&page={}&SelectedView=listings&LocationGeoId=783094&location_changed=&ajax=1'.format(index)\n",
    "    page = requests.get(url,headers=headers)\n",
    "    soup = BeautifulSoup(page.content,'html.parser')\n",
    "    time.sleep(3)\n",
    "    articles = soup.find_all('article')\n",
    "           \n",
    "    for article in articles:\n",
    "        bed = article.find(class_ = 'ic-beds')\n",
    "        if bed != None:\n",
    "            bed_list.append(bed.get_text().replace('\\n','').strip())\n",
    "        else:\n",
    "            bed_list.append('--')\n",
    "        bath = article.find(class_ = 'ic-baths')\n",
    "        if bath != None:\n",
    "            bath_list.append(bath.get_text().replace('\\n','').strip())\n",
    "        else:\n",
    "            bath_list.append('--')\n",
    "\n",
    "        sqft = article.find(class_ = 'ic-sqft')\n",
    "        if sqft != None:\n",
    "            sqft_list.append(sqft.get_text().replace('\\n','').strip())\n",
    "        else:\n",
    "            sqft_list.append('--')\n",
    "\n",
    "        typ = article.find(class_ = 'ic-proptype')\n",
    "        if typ != None:\n",
    "            type_list.append(typ.get_text().replace('\\n','').strip())\n",
    "        else:\n",
    "            type_list.append('--')\n",
    "            \n",
    "        price = article.find(class_ ='price')\n",
    "        \n",
    "        if price != None:\n",
    "            price_list.append(price['data-price'])\n",
    "        else:\n",
    "            price_list.append('--')\n",
    "        \n",
    "        address = article.find(class_ ='item-address')\n",
    "        if address != None:\n",
    "            data_url_list.append(address['data-url'])\n",
    "        else:\n",
    "            price_list.append('--')\n",
    "        \n",
    "        inputs = article.find_all('input')\n",
    "        if len(inputs) == 3:\n",
    "            address_list.append(inputs[0]['value'])\n",
    "            long_list.append(inputs[2]['value'])\n",
    "            lat_list.append(inputs[1]['value'])\n",
    "        elif len(inputs) == 2  :\n",
    "            if 'ShortAddress' in inputs[0]['id']:\n",
    "                address_list.append(inputs[0]['value'])\n",
    "                long_list.append(0)\n",
    "                lat_list.append(0)\n",
    "            elif 'ShortAddress' in inputs[1]['id']:\n",
    "                address_list.append(inputs[1]['value'])\n",
    "                long_list.append(0)\n",
    "                lat_list.append(0)\n",
    "            else:\n",
    "                address_list.append('--')\n",
    "                long_list.append(0)\n",
    "                lat_list.append(0)\n",
    "        elif len(inputs) == 1  :\n",
    "            if 'ShortAddress' in inputs[0]['id']:\n",
    "                address_list.append(inputs[0]['value'])\n",
    "                long_list.append(0)\n",
    "                lat_list.append(0)\n",
    "            else :\n",
    "                address_list.append('--')\n",
    "                long_list.append(0)\n",
    "                lat_list.append(0)\n",
    "        elif len(inputs) == 0:\n",
    "            address_list.append('--')\n",
    "            long_list.append(0)\n",
    "            lat_list.append(0)\n",
    "        "
   ]
  },
  {
   "cell_type": "code",
   "execution_count": null,
   "metadata": {},
   "outputs": [],
   "source": [
    "# use dictionary before use dataframe\n",
    "data_dict = dict()\n",
    "data_dict['address'] = address_list\n",
    "data_dict['long'] = long_list\n",
    "data_dict['lat'] = lat_list\n",
    "data_dict['data_url'] = data_url_list\n",
    "data_dict['price_$CAN'] = price_list\n",
    "data_dict['beds'] = bed_list\n",
    "data_dict['baths'] =bath_list\n",
    "data_dict['sqft'] = sqft_list\n",
    "data_dict['type'] = type_list\n",
    "# convert dictionary to  dataframe\n",
    "house_data = pd.DataFrame(data_dict)\n",
    "# save dataframe as csv file\n",
    "house_data.to_csv('./dataset/house_data.csv')"
   ]
  },
  {
   "cell_type": "code",
   "execution_count": 3,
   "metadata": {},
   "outputs": [
    {
     "name": "stdout",
     "output_type": "stream",
     "text": [
      "(3525, 10)\n"
     ]
    }
   ],
   "source": [
    "# use the dataframe\n",
    "house_data = pd.read_csv('./dataset/house_data.csv')\n",
    "print(house_data.shape)"
   ]
  },
  {
   "cell_type": "code",
   "execution_count": 4,
   "metadata": {},
   "outputs": [
    {
     "name": "stdout",
     "output_type": "stream",
     "text": [
      "/CA/Condo-For-Sale/ON/Toronto/Humber-Bay/33-Shore-Breeze-Dr/83854942.html\n"
     ]
    }
   ],
   "source": [
    "print(house_data.loc[0,'data_url'])"
   ]
  },
  {
   "cell_type": "markdown",
   "metadata": {},
   "source": [
    "#### 2. Use <a href='http://data.torontopolice.on.ca/datasets/mci-2014-to-2018'> The MCI  dataset includes all Major Crime Indicators (MCI) 2014 to 2018 occurrences by reported date and related offences </a>  to predict crime on Toronto Neighbourhoods."
   ]
  },
  {
   "cell_type": "code",
   "execution_count": 34,
   "metadata": {},
   "outputs": [
    {
     "name": "stdout",
     "output_type": "stream",
     "text": [
      "(167525, 29)\n"
     ]
    }
   ],
   "source": [
    "mci_2014_2018 = pd.read_csv('./dataset/mci_2014_to_2018.csv')\n",
    "print(mci_2014_2018.shape)"
   ]
  },
  {
   "cell_type": "code",
   "execution_count": 35,
   "metadata": {},
   "outputs": [
    {
     "data": {
      "text/plain": [
       "{'Agincourt North (129)',\n",
       " 'Agincourt South-Malvern West (128)',\n",
       " 'Alderwood (20)',\n",
       " 'Annex (95)',\n",
       " 'Banbury-Don Mills (42)',\n",
       " 'Bathurst Manor (34)',\n",
       " 'Bay Street Corridor (76)',\n",
       " 'Bayview Village (52)',\n",
       " 'Bayview Woods-Steeles (49)',\n",
       " 'Bedford Park-Nortown (39)',\n",
       " 'Beechborough-Greenbrook (112)',\n",
       " 'Bendale (127)',\n",
       " 'Birchcliffe-Cliffside (122)',\n",
       " 'Black Creek (24)',\n",
       " 'Blake-Jones (69)',\n",
       " 'Briar Hill-Belgravia (108)',\n",
       " 'Bridle Path-Sunnybrook-York Mills (41)',\n",
       " 'Broadview North (57)',\n",
       " 'Brookhaven-Amesbury (30)',\n",
       " 'Cabbagetown-South St.James Town (71)',\n",
       " 'Caledonia-Fairbank (109)',\n",
       " 'Casa Loma (96)',\n",
       " 'Centennial Scarborough (133)',\n",
       " 'Church-Yonge Corridor (75)',\n",
       " 'Clairlea-Birchmount (120)',\n",
       " 'Clanton Park (33)',\n",
       " 'Cliffcrest (123)',\n",
       " 'Corso Italia-Davenport (92)',\n",
       " 'Danforth (66)',\n",
       " 'Danforth East York (59)',\n",
       " 'Don Valley Village (47)',\n",
       " 'Dorset Park (126)',\n",
       " 'Dovercourt-Wallace Emerson-Junction (93)',\n",
       " 'Downsview-Roding-CFB (26)',\n",
       " 'Dufferin Grove (83)',\n",
       " 'East End-Danforth (62)',\n",
       " 'Edenbridge-Humber Valley (9)',\n",
       " 'Eglinton East (138)',\n",
       " 'Elms-Old Rexdale (5)',\n",
       " 'Englemount-Lawrence (32)',\n",
       " 'Eringate-Centennial-West Deane (11)',\n",
       " 'Eringate-Centennial_West Deane (11)',\n",
       " 'Etobicoke West Mall (13)',\n",
       " 'Flemingdon Park (44)',\n",
       " 'Forest Hill North (102)',\n",
       " 'Forest Hill South (101)',\n",
       " 'Glenfield-Jane Heights (25)',\n",
       " 'Greenwood-Coxwell (65)',\n",
       " 'Guildwood (140)',\n",
       " 'Henry Farm (53)',\n",
       " 'High Park North (88)',\n",
       " 'High Park-Swansea (87)',\n",
       " 'Highland Creek (134)',\n",
       " 'Hillcrest Village (48)',\n",
       " 'Humber Heights-Westmount (8)',\n",
       " 'Humber Summit (21)',\n",
       " 'Humbermede (22)',\n",
       " 'Humewood-Cedarvale (106)',\n",
       " 'Ionview (125)',\n",
       " 'Islington-City Centre West (14)',\n",
       " 'Junction Area (90)',\n",
       " 'Keelesdale-Eglinton West (110)',\n",
       " 'Kennedy Park (124)',\n",
       " 'Kensington-Chinatown (78)',\n",
       " 'Kingsview Village-The Westway (6)',\n",
       " 'Kingsway South (15)',\n",
       " \"L'Amoreaux (117)\",\n",
       " 'Lambton Baby Point (114)',\n",
       " 'Lansing-Westgate (38)',\n",
       " 'Lawrence Park North (105)',\n",
       " 'Lawrence Park South (103)',\n",
       " 'Leaside-Bennington (56)',\n",
       " 'Little Portugal (84)',\n",
       " 'Long Branch (19)',\n",
       " 'Malvern (132)',\n",
       " 'Maple Leaf (29)',\n",
       " 'Markland Wood (12)',\n",
       " 'Milliken (130)',\n",
       " 'Mimico (includes Humber Bay Shores) (17)',\n",
       " 'Morningside (135)',\n",
       " 'Moss Park (73)',\n",
       " 'Mount Dennis (115)',\n",
       " 'Mount Olive-Silverstone-Jamestown (2)',\n",
       " 'Mount Pleasant East (99)',\n",
       " 'Mount Pleasant West (104)',\n",
       " 'New Toronto (18)',\n",
       " 'Newtonbrook East (50)',\n",
       " 'Newtonbrook West (36)',\n",
       " 'Niagara (82)',\n",
       " 'North Riverdale (68)',\n",
       " 'North St.James Town (74)',\n",
       " \"O'Connor-Parkview (54)\",\n",
       " 'Oakridge (121)',\n",
       " 'Oakwood Village (107)',\n",
       " 'Old East York (58)',\n",
       " 'Palmerston-Little Italy (80)',\n",
       " 'Parkwoods-Donalda (45)',\n",
       " 'Pelmo Park-Humberlea (23)',\n",
       " 'Playter Estates-Danforth (67)',\n",
       " 'Pleasant View (46)',\n",
       " 'Princess-Rosethorn (10)',\n",
       " 'Regent Park (72)',\n",
       " 'Rexdale-Kipling (4)',\n",
       " 'Rockcliffe-Smythe (111)',\n",
       " 'Roncesvalles (86)',\n",
       " 'Rosedale-Moore Park (98)',\n",
       " 'Rouge (131)',\n",
       " 'Runnymede-Bloor West Village (89)',\n",
       " 'Rustic (28)',\n",
       " 'Scarborough Village (139)',\n",
       " 'South Parkdale (85)',\n",
       " 'South Riverdale (70)',\n",
       " 'St.Andrew-Windfields (40)',\n",
       " 'Steeles (116)',\n",
       " 'Stonegate-Queensway (16)',\n",
       " \"Tam O'Shanter-Sullivan (118)\",\n",
       " 'Taylor-Massey (61)',\n",
       " 'The Beaches (63)',\n",
       " 'Thistletown-Beaumond Heights (3)',\n",
       " 'Thorncliffe Park (55)',\n",
       " 'Trinity-Bellwoods (81)',\n",
       " 'University (79)',\n",
       " 'Victoria Village (43)',\n",
       " 'Waterfront Communities-The Island (77)',\n",
       " 'West Hill (136)',\n",
       " 'West Humber-Clairville (1)',\n",
       " 'Westminster-Branson (35)',\n",
       " 'Weston (113)',\n",
       " 'Weston-Pellam Park (91)',\n",
       " 'Wexford/Maryvale (119)',\n",
       " 'Willowdale East (51)',\n",
       " 'Willowdale West (37)',\n",
       " 'Willowridge-Martingrove-Richview (7)',\n",
       " 'Woburn (137)',\n",
       " 'Woodbine Corridor (64)',\n",
       " 'Woodbine-Lumsden (60)',\n",
       " 'Wychwood (94)',\n",
       " 'Yonge-Eglinton (100)',\n",
       " 'Yonge-St.Clair (97)',\n",
       " 'York University Heights (27)',\n",
       " 'Yorkdale-Glen Park (31)'}"
      ]
     },
     "execution_count": 35,
     "metadata": {},
     "output_type": "execute_result"
    }
   ],
   "source": [
    "(mci_2014_2018.Neighbourhood)"
   ]
  },
  {
   "cell_type": "code",
   "execution_count": 34,
   "metadata": {},
   "outputs": [],
   "source": [
    "from geopy.geocoders import Nominatim  # for geocoders referencing"
   ]
  },
  {
   "cell_type": "code",
   "execution_count": 53,
   "metadata": {},
   "outputs": [
    {
     "name": "stdout",
     "output_type": "stream",
     "text": [
      "Toronto location : 43.623426,-79.47897900000001\n"
     ]
    }
   ],
   "source": [
    "CLIENT_ID = 'XXXXXXX' # your Foursquare ID\n",
    "CLIENT_SECRET = 'XXXXXXX' # your Foursquare Secret\n",
    "VERSION = '20191028'\n",
    "LIMIT = 150\n",
    "\n",
    "latitude = house_data.head(1).lat.values[0]  \n",
    "longitude =house_data.head(1).long.values [0]\n",
    "toronto='Toronto location : {},{}'.format(latitude,longitude)\n",
    "print(toronto)\n"
   ]
  },
  {
   "cell_type": "code",
   "execution_count": 54,
   "metadata": {},
   "outputs": [],
   "source": [
    "#Quering for hotel & restaurant\n",
    "\n",
    "search_query = 'hotel'\n",
    "search_query_res = 'restaurant'\n",
    "\n",
    "radius = 1000\n",
    "url_hotel = 'https://api.foursquare.com/v2/venues/search?client_id={}&client_secret={}&ll={},{}&v={}&query={}&radius={}&limit={}'.format(CLIENT_ID, CLIENT_SECRET, latitude, longitude, VERSION, search_query, radius, LIMIT)\n",
    "url_restaurant = 'https://api.foursquare.com/v2/venues/search?client_id={}&client_secret={}&ll={},{}&v={}&query={}&radius={}&limit={}'.format(CLIENT_ID, CLIENT_SECRET, latitude, longitude, VERSION, search_query_res, radius, LIMIT)\n",
    "#url"
   ]
  },
  {
   "cell_type": "code",
   "execution_count": 55,
   "metadata": {},
   "outputs": [],
   "source": [
    "results_hotel = requests.get(url_hotel).json()\n",
    "results_restaurant = requests.get(url_restaurant).json()\n"
   ]
  },
  {
   "cell_type": "code",
   "execution_count": 57,
   "metadata": {},
   "outputs": [
    {
     "data": {
      "text/plain": [
       "{'meta': {'code': 200, 'requestId': '5e502bdc216785001c9065bf'},\n",
       " 'response': {'venues': [{'id': '4e6fac43aeb74b05755eceb8',\n",
       "    'name': 'Hoaikung Restaurant',\n",
       "    'location': {'address': '716 The Queensway',\n",
       "     'crossStreet': 'Royal York Road',\n",
       "     'lat': 43.624089,\n",
       "     'lng': -79.49124,\n",
       "     'labeledLatLngs': [{'label': 'display',\n",
       "       'lat': 43.624089,\n",
       "       'lng': -79.49124}],\n",
       "     'distance': 990,\n",
       "     'postalCode': 'M8Y 1L3',\n",
       "     'cc': 'CA',\n",
       "     'city': 'Etobicoke',\n",
       "     'state': 'ON',\n",
       "     'country': 'Canada',\n",
       "     'formattedAddress': ['716 The Queensway (Royal York Road)',\n",
       "      'Etobicoke ON M8Y 1L3',\n",
       "      'Canada']},\n",
       "    'categories': [{'id': '4bf58dd8d48988d142941735',\n",
       "      'name': 'Asian Restaurant',\n",
       "      'pluralName': 'Asian Restaurants',\n",
       "      'shortName': 'Asian',\n",
       "      'icon': {'prefix': 'https://ss3.4sqi.net/img/categories_v2/food/asian_',\n",
       "       'suffix': '.png'},\n",
       "      'primary': True}],\n",
       "    'referralId': 'v-1582312426',\n",
       "    'hasPerk': False},\n",
       "   {'id': '4ee93b13e3001405fced8c59',\n",
       "    'name': 'Palace Pier Restaurant',\n",
       "    'location': {'lat': 43.63186845285148,\n",
       "     'lng': -79.47413749440648,\n",
       "     'labeledLatLngs': [{'label': 'display',\n",
       "       'lat': 43.63186845285148,\n",
       "       'lng': -79.47413749440648}],\n",
       "     'distance': 1017,\n",
       "     'cc': 'CA',\n",
       "     'city': 'Toronto',\n",
       "     'state': 'ON',\n",
       "     'country': 'Canada',\n",
       "     'formattedAddress': ['Toronto ON', 'Canada']},\n",
       "    'categories': [{'id': '4bf58dd8d48988d14e941735',\n",
       "      'name': 'American Restaurant',\n",
       "      'pluralName': 'American Restaurants',\n",
       "      'shortName': 'American',\n",
       "      'icon': {'prefix': 'https://ss3.4sqi.net/img/categories_v2/food/default_',\n",
       "       'suffix': '.png'},\n",
       "      'primary': True}],\n",
       "    'referralId': 'v-1582312426',\n",
       "    'hasPerk': False},\n",
       "   {'id': '5169ed9de4b02cfb7f63597a',\n",
       "    'name': 'La Vinia Restaurant',\n",
       "    'location': {'address': '2350 Lakeshore Blvd W',\n",
       "     'lat': 43.6163,\n",
       "     'lng': -79.488077,\n",
       "     'labeledLatLngs': [{'label': 'display',\n",
       "       'lat': 43.6163,\n",
       "       'lng': -79.488077}],\n",
       "     'distance': 1080,\n",
       "     'postalCode': 'M8V 1B8',\n",
       "     'cc': 'CA',\n",
       "     'city': 'Toronto',\n",
       "     'state': 'ON',\n",
       "     'country': 'Canada',\n",
       "     'formattedAddress': ['2350 Lakeshore Blvd W',\n",
       "      'Toronto ON M8V 1B8',\n",
       "      'Canada']},\n",
       "    'categories': [{'id': '4bf58dd8d48988d150941735',\n",
       "      'name': 'Spanish Restaurant',\n",
       "      'pluralName': 'Spanish Restaurants',\n",
       "      'shortName': 'Spanish',\n",
       "      'icon': {'prefix': 'https://ss3.4sqi.net/img/categories_v2/food/spanish_',\n",
       "       'suffix': '.png'},\n",
       "      'primary': True}],\n",
       "    'referralId': 'v-1582312426',\n",
       "    'hasPerk': False}]}}"
      ]
     },
     "execution_count": 57,
     "metadata": {},
     "output_type": "execute_result"
    }
   ],
   "source": [
    "results_restaurant"
   ]
  },
  {
   "cell_type": "code",
   "execution_count": 64,
   "metadata": {},
   "outputs": [
    {
     "name": "stdout",
     "output_type": "stream",
     "text": [
      "There are 3 restaurants  at this location\n"
     ]
    }
   ],
   "source": [
    "from pandas.io.json import json_normalize\n",
    "dataframe_restaurant = json_normalize(venues_restaurant)\n",
    "print(\"There are {} restaurants  at this location\".format(dataframe_restaurant.shape[0]))"
   ]
  },
  {
   "cell_type": "code",
   "execution_count": 70,
   "metadata": {},
   "outputs": [
    {
     "data": {
      "text/html": [
       "<div>\n",
       "<style scoped>\n",
       "    .dataframe tbody tr th:only-of-type {\n",
       "        vertical-align: middle;\n",
       "    }\n",
       "\n",
       "    .dataframe tbody tr th {\n",
       "        vertical-align: top;\n",
       "    }\n",
       "\n",
       "    .dataframe thead th {\n",
       "        text-align: right;\n",
       "    }\n",
       "</style>\n",
       "<table border=\"1\" class=\"dataframe\">\n",
       "  <thead>\n",
       "    <tr style=\"text-align: right;\">\n",
       "      <th></th>\n",
       "      <th>name</th>\n",
       "      <th>categories</th>\n",
       "      <th>distance</th>\n",
       "      <th>lat</th>\n",
       "      <th>lng</th>\n",
       "      <th>id</th>\n",
       "    </tr>\n",
       "  </thead>\n",
       "  <tbody>\n",
       "    <tr>\n",
       "      <th>0</th>\n",
       "      <td>Hoaikung Restaurant</td>\n",
       "      <td>Asian Restaurant</td>\n",
       "      <td>990</td>\n",
       "      <td>43.624089</td>\n",
       "      <td>-79.491240</td>\n",
       "      <td>4e6fac43aeb74b05755eceb8</td>\n",
       "    </tr>\n",
       "    <tr>\n",
       "      <th>1</th>\n",
       "      <td>Palace Pier Restaurant</td>\n",
       "      <td>American Restaurant</td>\n",
       "      <td>1017</td>\n",
       "      <td>43.631868</td>\n",
       "      <td>-79.474137</td>\n",
       "      <td>4ee93b13e3001405fced8c59</td>\n",
       "    </tr>\n",
       "    <tr>\n",
       "      <th>2</th>\n",
       "      <td>La Vinia Restaurant</td>\n",
       "      <td>Spanish Restaurant</td>\n",
       "      <td>1080</td>\n",
       "      <td>43.616300</td>\n",
       "      <td>-79.488077</td>\n",
       "      <td>5169ed9de4b02cfb7f63597a</td>\n",
       "    </tr>\n",
       "  </tbody>\n",
       "</table>\n",
       "</div>"
      ],
      "text/plain": [
       "                     name           categories  distance        lat  \\\n",
       "0     Hoaikung Restaurant     Asian Restaurant       990  43.624089   \n",
       "1  Palace Pier Restaurant  American Restaurant      1017  43.631868   \n",
       "2     La Vinia Restaurant   Spanish Restaurant      1080  43.616300   \n",
       "\n",
       "         lng                        id  \n",
       "0 -79.491240  4e6fac43aeb74b05755eceb8  \n",
       "1 -79.474137  4ee93b13e3001405fced8c59  \n",
       "2 -79.488077  5169ed9de4b02cfb7f63597a  "
      ]
     },
     "execution_count": 70,
     "metadata": {},
     "output_type": "execute_result"
    }
   ],
   "source": [
    "import folium # map rendering library\n",
    "# keep only columns that include venue name, and anything that is associated with location\n",
    "filtered_columns = ['name', 'categories'] + [col for col in dataframe_restaurant.columns if col.startswith('location.')] + ['id']\n",
    "dataframe_filtered = dataframe_restaurant.loc[:, filtered_columns]\n",
    "\n",
    "# function that extracts the category of the venue\n",
    "\n",
    "def get_category_type(row):\n",
    "    try:\n",
    "        categories_list = row['categories']\n",
    "    except:\n",
    "        categories_list = row['venue.categories']\n",
    "        \n",
    "    if len(categories_list) == 0:\n",
    "        return None\n",
    "    else:\n",
    "        return categories_list[0]['name']\n",
    "\n",
    "    \n",
    "# filter the category for each row\n",
    "dataframe_filtered['categories'] = dataframe_filtered.apply(get_category_type, axis=1)\n",
    "\n",
    "  \n",
    "# clean column names by keeping only last term\n",
    "dataframe_filtered.columns = [column.split('.')[-1] for column in dataframe_filtered.columns]\n",
    "\n",
    "#dataframe_filtered\n",
    "resto_df=dataframe_filtered[['name','categories','distance','lat','lng','id']]\n",
    "resto_df.head()"
   ]
  },
  {
   "cell_type": "code",
   "execution_count": 77,
   "metadata": {},
   "outputs": [
    {
     "data": {
      "text/html": [
       "<div style=\"width:100%;\"><div style=\"position:relative;width:100%;height:0;padding-bottom:60%;\"><iframe src=\"data:text/html;charset=utf-8;base64,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\" style=\"position:absolute;width:100%;height:100%;left:0;top:0;border:none !important;\" allowfullscreen webkitallowfullscreen mozallowfullscreen></iframe></div></div>"
      ],
      "text/plain": [
       "<folium.folium.Map at 0x7f0b531d1cf8>"
      ]
     },
     "execution_count": 77,
     "metadata": {},
     "output_type": "execute_result"
    }
   ],
   "source": [
    "import folium # map rendering library\n",
    "resto_map = folium.Map(location=[latitude, longitude], zoom_start=16) # generate map centred around the Toronto house\n",
    "\n",
    "# add a red circle marker to represent the core location of Toronto house 1\n",
    "folium.CircleMarker(\n",
    "    [latitude, longitude],\n",
    "    radius=10,\n",
    "    color='red',\n",
    "    popup='Location House 1',\n",
    "    fill = True,\n",
    "    fill_color = 'red',\n",
    "    fill_opacity = 0.6\n",
    ").add_to(resto_map)\n",
    "geoPath\n",
    "\n",
    "resto_map"
   ]
  },
  {
   "cell_type": "code",
   "execution_count": null,
   "metadata": {},
   "outputs": [],
   "source": [
    "maps = folium.Map(location =[data_geom.y.mean(),data_geom.x.mean()],zoom_start=11)\n",
    "maps.choropleth(\n",
    " geo_data = r'./dataset/simple.json',\n",
    " data =data_geom,\n",
    " key_on = 'properties.HOODNUM',\n",
    " columns = ['HOODNUM','Total houses'],\n",
    " fill_color='Reds', \n",
    " fill_opacity=0.9,\n",
    " line_opacity=0.4,\n",
    " )\n",
    "maps"
   ]
  },
  {
   "cell_type": "code",
   "execution_count": null,
   "metadata": {},
   "outputs": [],
   "source": [
    "house_data['neighborhood'] = np.nan\n",
    "for i in range(0,house_data.shape[0]):\n",
    "    house_data.loc[i,'neighborhood']= house_data.loc[i,'data_url'].split('/')[5]\n",
    "neighbourhood = house_data.groupby('neighborhood').size().to_frame()\n",
    "neighbourhood.sort_values(by= [0],ascending = False).head(25)"
   ]
  },
  {
   "cell_type": "markdown",
   "metadata": {},
   "source": [
    "## Data Clearning"
   ]
  },
  {
   "cell_type": "code",
   "execution_count": null,
   "metadata": {},
   "outputs": [],
   "source": [
    "ax=data_geom.plot(figsize =(30,15),cmap ='Reds')\n",
    "data_geom.apply(lambda x: ax.annotate(s=x.district_code, xy=x.geometry.centroid.coords[0], ha='center',fontsize =12),axis=1)\n"
   ]
  }
 ],
 "metadata": {
  "kernelspec": {
   "display_name": "Python 3",
   "language": "python",
   "name": "python3"
  },
  "language_info": {
   "codemirror_mode": {
    "name": "ipython",
    "version": 3
   },
   "file_extension": ".py",
   "mimetype": "text/x-python",
   "name": "python",
   "nbconvert_exporter": "python",
   "pygments_lexer": "ipython3",
   "version": "3.7.3"
  }
 },
 "nbformat": 4,
 "nbformat_minor": 2
}
